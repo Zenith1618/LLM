{
  "nbformat": 4,
  "nbformat_minor": 0,
  "metadata": {
    "colab": {
      "provenance": [],
      "gpuType": "T4",
      "authorship_tag": "ABX9TyMBLzs6GiYfDjsC5fnxfYol",
      "include_colab_link": true
    },
    "kernelspec": {
      "name": "python3",
      "display_name": "Python 3"
    },
    "language_info": {
      "name": "python"
    },
    "accelerator": "GPU"
  },
  "cells": [
    {
      "cell_type": "markdown",
      "metadata": {
        "id": "view-in-github",
        "colab_type": "text"
      },
      "source": [
        "<a href=\"https://colab.research.google.com/github/Zenith1618/LLM/blob/main/French_to_English_Translator_using_Seq2Seq_Bahdanau_Attention_Model.ipynb\" target=\"_parent\"><img src=\"https://colab.research.google.com/assets/colab-badge.svg\" alt=\"Open In Colab\"/></a>"
      ]
    },
    {
      "cell_type": "markdown",
      "source": [
        "# Import Libraries\n"
      ],
      "metadata": {
        "id": "zwMkipm9APdB"
      }
    },
    {
      "cell_type": "code",
      "execution_count": 9,
      "metadata": {
        "id": "vNu6bXDRw-_v"
      },
      "outputs": [],
      "source": [
        "import numpy as np\n",
        "import matplotlib.pyplot as plt\n",
        "import matplotlib.ticker as ticker\n",
        "import re\n",
        "import random\n",
        "import time\n",
        "\n",
        "from __future__ import unicode_literals, print_function, division\n",
        "from io import open\n",
        "import unicodedata\n",
        "\n",
        "import torch\n",
        "import torch.nn as nn\n",
        "from torch import optim\n",
        "import torch.nn.functional as F\n",
        "from torch.utils.data import TensorDataset, DataLoader, RandomSampler\n",
        "\n",
        "plt.switch_backend('agg')"
      ]
    },
    {
      "cell_type": "code",
      "source": [
        "device = torch.device(\"cuda\" if torch.cuda.is_available() else \"cpu\")\n",
        "device"
      ],
      "metadata": {
        "colab": {
          "base_uri": "https://localhost:8080/"
        },
        "id": "8uKBlMUtAHbH",
        "outputId": "1c91b079-909b-478e-97d8-7187982fa05b"
      },
      "execution_count": 10,
      "outputs": [
        {
          "output_type": "execute_result",
          "data": {
            "text/plain": [
              "device(type='cuda')"
            ]
          },
          "metadata": {},
          "execution_count": 10
        }
      ]
    },
    {
      "cell_type": "markdown",
      "source": [
        "# Setting the seeding value"
      ],
      "metadata": {
        "id": "O8BIgTfuAWWD"
      }
    },
    {
      "cell_type": "code",
      "source": [
        "seed = 42\n",
        "\n",
        "torch.manual_seed(seed)\n",
        "torch.cuda.manual_seed(seed)\n",
        "random.seed(seed)"
      ],
      "metadata": {
        "id": "DvUIsvLeAMS7"
      },
      "execution_count": 11,
      "outputs": []
    },
    {
      "cell_type": "markdown",
      "source": [
        "# Loading the dataset"
      ],
      "metadata": {
        "id": "2DoFio9bBZRj"
      }
    },
    {
      "cell_type": "markdown",
      "source": [
        "The download link for the dataset is: https://download.pytorch.org/tutorial/data.zip\n",
        "\n",
        "The file is a tab separated list of translation pair"
      ],
      "metadata": {
        "id": "FOLyX_6GBMAe"
      }
    },
    {
      "cell_type": "markdown",
      "source": [
        "Mapping words to index"
      ],
      "metadata": {
        "id": "FEqxivOpCGQm"
      }
    },
    {
      "cell_type": "code",
      "source": [
        "SOS_token = 0\n",
        "EOS_token = 1\n",
        "\n",
        "class Lang:\n",
        "  def __init__(self, name):\n",
        "    self.name = name    #Represents the name of the language.\n",
        "    self.word2index = {}  #A dictionary mapping words to their respective indices.\n",
        "    self.word2count = {}  #A dictionary to count occurrences of words.\n",
        "    self.index2word = {0: \"SOS\", 1: \"EOS\"}  # A dictionary mapping indices to their respective words.\n",
        "    self.n_words = 2  #An integer to keep track of the total number of unique words\n",
        "\n",
        "\n",
        "  #Splits the input sentence into words and calls the addWord method for each word in the sentence.\n",
        "  def addSentence(self, sentence):\n",
        "    for word in sentence.split(' '):\n",
        "      self.addWord(word)\n",
        "\n",
        "  \"\"\"\n",
        "  Adds a word to the language's dictionaries if it's not already present.\n",
        "\n",
        "  If the word doesn't exist (word not in self.word2index), it adds the word to word2index, assigns it a unique index (self.n_words),\n",
        "  initializes its count to 1 in word2count, maps the index to the word in index2word, and increments n_words.\n",
        "\n",
        "  If the word already exists in word2index, it increments the count for that word in word2count.\n",
        "  \"\"\"\n",
        "  def addWord(self, word):\n",
        "    if word not in self.word2index:\n",
        "      self.word2index[word] = self.n_words\n",
        "      self.word2count = 1\n",
        "      self.index2word[self.n_words] = word\n",
        "      self.n_words +=1\n",
        "    else:\n",
        "      self.word2count+=1"
      ],
      "metadata": {
        "id": "RyT6p3l1Aix_"
      },
      "execution_count": 22,
      "outputs": []
    },
    {
      "cell_type": "markdown",
      "source": [
        "Language Pair Data Reading and Preprocessing"
      ],
      "metadata": {
        "id": "vosyMpTeLX1D"
      }
    },
    {
      "cell_type": "code",
      "source": [
        "# Turn a Unicode string to plain ASCII, thanks to- https://stackoverflow.com/a/518232/2809427\n",
        "def unicodeToAscii(s):\n",
        "    return ''.join(\n",
        "        c for c in unicodedata.normalize('NFD', s)\n",
        "        if unicodedata.category(c) != 'Mn'\n",
        "    )\n",
        "\n",
        "# Lowercase, trim, and remove non-letter characters\n",
        "def normalizeString(s):\n",
        "    s = unicodeToAscii(s.lower().strip())\n",
        "    s = re.sub(r\"([.!?])\", r\" \\1\", s)   #to add a space before punctuation marks\n",
        "    s = re.sub(r\"[^a-zA-Z!?]+\", r\" \", s)  # Replaces any character that is not a letter or specific punctuation marks (such as ! and ?) with a space.\n",
        "    return s.strip()"
      ],
      "metadata": {
        "id": "-_q32gEHCIvO"
      },
      "execution_count": 13,
      "outputs": []
    },
    {
      "cell_type": "code",
      "source": [
        "def readLangs(lang1, lang2, reverse=False):\n",
        "  print(\"Reading lines.......\")\n",
        "\n",
        "  # Read the file and split into lines\n",
        "  lines = open('%s-%s.txt' % (lang1, lang2), encoding='utf-8').read().strip().split('\\n')\n",
        "\n",
        "  # split the lines into pair and normalize them\n",
        "  pairs = [[normalizeString(s) for s in l.split('\\t')] for l in lines]\n",
        "\n",
        "  # Reverse Pair, and make language instances\n",
        "  if reverse:\n",
        "    pairs = [list(reversed(p)) for p in pairs]\n",
        "    input_lang = Lang(lang2)\n",
        "    output_lang = Lang(lang1)\n",
        "  else:\n",
        "    input_lang = Lang(lang1)\n",
        "    output_lang = Lang(lang2)\n",
        "\n",
        "  return input_lang, output_lang, pairs"
      ],
      "metadata": {
        "id": "xVUSn4QyLbZS"
      },
      "execution_count": 14,
      "outputs": []
    },
    {
      "cell_type": "code",
      "source": [
        "MAX_LENGTH = 10   # maximum allowable length for sentences.\n",
        "\n",
        "eng_prefixes = (\n",
        "    \"i am \", \"i m \",\n",
        "    \"he is\", \"he s \",\n",
        "    \"she is\", \"she s \",\n",
        "    \"you are\", \"you re \",\n",
        "    \"we are\", \"we re \",\n",
        "    \"they are\", \"they re \"\n",
        ")\n",
        "\n",
        "\"\"\"\n",
        "This function takes a pair p as input, where p[0] represents one sentence in a pair and p[1] represents another sentence and checks\n",
        "if the length of both sentences (split by spaces) is less than MAX_LENGTH and if the second sentence (p[1]) starts with any of the\n",
        "prefixes defined in eng_prefixes.\n",
        "It returns True if both conditions are met for the pair, indicating that it passes the filter.\n",
        "\"\"\"\n",
        "# Trying to get some specific type of sentences\n",
        "def filterPair(p):\n",
        "    return len(p[0].split(' ')) < MAX_LENGTH and len(p[1].split(' ')) < MAX_LENGTH and p[1].startswith(eng_prefixes)\n",
        "\n",
        "\n",
        "def filterPairs(pairs):\n",
        "    return [pair for pair in pairs if filterPair(pair)]"
      ],
      "metadata": {
        "id": "cmVpTEavTEyy"
      },
      "execution_count": 15,
      "outputs": []
    },
    {
      "cell_type": "code",
      "source": [
        "def prepareData(lang1, lang2, reverse=False):\n",
        "\n",
        "  input_lang, output_lang, pairs = readLangs(lang1, lang2, reverse)\n",
        "  print(\"Read %s sentence pair\" %len(pairs))\n",
        "\n",
        "  pairs = filterPairs(pairs)\n",
        "  print(\"Trimmed to %s sentence pair\" % len(pairs))\n",
        "\n",
        "  print(\"Counting words....\")\n",
        "  for pair in pairs:\n",
        "    input_lang.addSentence(pair[0])\n",
        "    output_lang.addSentence(pair[1])\n",
        "\n",
        "  print(\"Counted Words: \")\n",
        "  print(input_lang.name, input_lang.n_words)\n",
        "  print(output_lang.name, output_lang.n_words)\n",
        "  return input_lang, output_lang, pairs\n",
        "\n",
        "input_lang, output_lang, pairs = prepareData('eng', 'fra', True)\n",
        "print(random.choice(pairs))"
      ],
      "metadata": {
        "colab": {
          "base_uri": "https://localhost:8080/"
        },
        "id": "9O0m4F-rT-TT",
        "outputId": "2de60832-429f-4c4f-c364-89a7eb156d40"
      },
      "execution_count": 16,
      "outputs": [
        {
          "output_type": "stream",
          "name": "stdout",
          "text": [
            "Reading lines.......\n",
            "Read 135842 sentence pair\n",
            "Trimmed to 11445 sentence pair\n",
            "Counting words....\n",
            "Counted Words: \n",
            "fra 4601\n",
            "eng 2991\n",
            "['nous craignons de manquer notre train', 'we re afraid we ll miss our train']\n"
          ]
        }
      ]
    },
    {
      "cell_type": "markdown",
      "source": [
        "Since, we have passed reverse=True, our input is French and ouput is English"
      ],
      "metadata": {
        "id": "uSR9yu3gVX4Q"
      }
    },
    {
      "cell_type": "markdown",
      "source": [
        "# Seq2Seq Attention"
      ],
      "metadata": {
        "id": "U76BOMhfWDHf"
      }
    },
    {
      "cell_type": "markdown",
      "source": [
        "A Sequence to Sequence network, or seq2seq network, or Encoder Decoder network, is a model consisting of two RNNs called the encoder and decoder. The encoder reads an input sequence and outputs a single vector, and the decoder reads that vector to produce an output sequence.\n",
        "</br>\n",
        "</br>\n",
        "![seq2seq](https://pytorch.org/tutorials/_images/seq2seq.png)"
      ],
      "metadata": {
        "id": "QpnyFpX_WJmD"
      }
    },
    {
      "cell_type": "markdown",
      "source": [
        "## Encoder Block Workflow\n",
        "\n",
        "First, we'll build the encoder. We only use a single layer GRU. The encoder of a seq2seq network is a RNN that outputs some value for every word from the input sentence.\n",
        "</br>\n",
        "</br>\n",
        "\n",
        "\n",
        "![encoder](https://pytorch.org/tutorials/_images/encoder-network.png)"
      ],
      "metadata": {
        "id": "-fn-4luvWOz2"
      }
    },
    {
      "cell_type": "code",
      "source": [
        "class EncoderRNN(nn.Module):\n",
        "  def __init__(self, input_size, hidden_size, dropout_p=0.1):\n",
        "    super(EncoderRNN, self).__init__()\n",
        "    self.hidden_size = hidden_size\n",
        "\n",
        "    # initializing embedding layer to convert input index into dense vectors\n",
        "    self.embedding = nn.Embedding(input_size, hidden_size)\n",
        "\n",
        "    # GRU Layer\n",
        "    self.gru = nn.GRU(hidden_size, hidden_size, batch_first=True)\n",
        "    self.dropout = nn.Dropout(dropout_p)\n",
        "\n",
        "  def forward(self, input):\n",
        "\n",
        "    embedded = self.dropout(self.embedding(input))\n",
        "    # Pass the embedded vectors through the GRU layer\n",
        "    # 'output' contains the GRU outputs for each time step in the sequence\n",
        "    # 'hidden' is the final hidden state of the GRU after processing the sequence\n",
        "    output, hidden = self.gru(embedded)\n",
        "    return output, hidden\n"
      ],
      "metadata": {
        "id": "HtKFHsn3VJnG"
      },
      "execution_count": 17,
      "outputs": []
    },
    {
      "cell_type": "markdown",
      "source": [
        "## Decoder Block\n",
        "\n",
        "The decoder is another RNN that takes the encoder output vector(s) and outputs a sequence of words to create the translation.\n",
        "\n",
        "In the simplest seq2seq decoder we use only last output of the encoder. This last output is sometimes called the **Context vector** as it encodes context from the entire sequence. This context vector is used as the initial hidden state of the decoder.\n",
        "\n",
        "\n",
        "![decoder](https://pytorch.org/tutorials/_images/decoder-network.png)"
      ],
      "metadata": {
        "id": "XjpJQv9AYVng"
      }
    },
    {
      "cell_type": "code",
      "source": [
        "class DecoderRNN(nn.Module):\n",
        "  def __init__(self, hidden_size, output_size):\n",
        "    super(DecoderRNN, self).__init__()\n",
        "\n",
        "    self.embedding = nn.Embedding(output_size, hidden_size)\n",
        "    self.gru = nn.GRU(hidden_size, hidden_size, batch_first=True)\n",
        "    self.out = nn.Linear(hidden_size, output_size)\n",
        "\n",
        "\n",
        "  def forward(self, encoder_outputs, encoder_hidden, target_tensor=None):\n",
        "\n",
        "    batch_size = encoder_outputs.size(0)\n",
        "\n",
        "    # initially decoder hidden state is encoder's final hidden states\n",
        "    decoder_input = torch.empty(batch_size, dtype=torch.long, device=device).fill_(SOS_token)\n",
        "    decoder_hidden = encoder_hidden\n",
        "    decoder_outputs = []\n",
        "\n",
        "    for i in range(MAX_LENGTH):\n",
        "      decoder_output, decoder_hidden = self.forward_step(decoder_input, decoder_hidden)\n",
        "      decoder_outputs.append(decoder_output)\n",
        "\n",
        "      if target_tensor is not None:\n",
        "        # Teacher forcing: Feed the target as the next input\n",
        "        decoder_input = target_tensor[:, i].unsqueeze(1) # Teacher forcing\n",
        "      else:\n",
        "        # Without teacher forcing: use its own predictions as the next input\n",
        "        _, topi = decoder_output.topk(1)\n",
        "        decoder_input = topi.squeeze(-1).detach()  # detach from history as input\n",
        "\n",
        "\n",
        "      # Concatenate decoder outputs along the sequence length and apply log softmax to compute token probabilities\n",
        "      decoder_outputs = torch.cat(decoder_outputs, dim =1)\n",
        "      #dim=1 indicates concatenation along the sequence length (time steps). It's stacking these tensors horizontally.\n",
        "      decoder_outputs = F.log_softmax(decoder_outputs, dim = -1)\n",
        "      # log softmax should be computed along the last dimension of the tensor, which is typically the dimension representing the output vocabulary.\n",
        "\n",
        "      return decoder_outputs, decoder_hidden, None\n",
        "      # None is returned for consistency in the training loop\n",
        "\n",
        "  def forward_step(self, input, hidden):\n",
        "    output = self.embedding(input)\n",
        "    output = F.relu(output)\n",
        "    output, hidden = self.gru(output, hidden)\n",
        "    output = self.out(output)\n",
        "\n",
        "    return output, hidden\n"
      ],
      "metadata": {
        "id": "oSa-5uVJYRSf"
      },
      "execution_count": 18,
      "outputs": []
    },
    {
      "cell_type": "markdown",
      "source": [
        "## Attention model building\n",
        "\n",
        "The `BahdanauAttention` implements the Bahdanau Attention mechanism, which is a type of attention mechanism commonly used in sequence-to-sequence models, particularly in neural machine translation tasks.\n",
        "\n",
        "This mechanism allows the model to focus on different parts of the input sequence while generating the output sequence."
      ],
      "metadata": {
        "id": "HLQZu3T9bhJG"
      }
    },
    {
      "cell_type": "code",
      "source": [
        "class BahdanauAttention(nn.Module):\n",
        "  def __init__(self, hidden_size):\n",
        "    super(BahdanauAttention, self).__init__()\n",
        "\n",
        "    self.Wa = nn.Linear(hidden_size, hidden_size)\n",
        "    self.Ua = nn.Linear(hidden_size, hidden_size)\n",
        "    self.Va = nn.Linear(hidden_size, 1)\n",
        "\n",
        "  def forward(self, query, keys):\n",
        "    scores = self.Va(torch.tanh(self.Wa(query) + self.Ua(keys)))\n",
        "    scores = scores.squeeze(2).unsqueeze(1)\n",
        "\n",
        "    weights = F.softmax(scores, dim= -1)\n",
        "    context = torch.bmm(weights, keys)\n",
        "\n",
        "    return context, weights"
      ],
      "metadata": {
        "id": "XoPbM_WubggZ"
      },
      "execution_count": 19,
      "outputs": []
    },
    {
      "cell_type": "markdown",
      "source": [
        "Let's break down the code and its purpose:\n",
        "\n",
        "1. **Initialization (`__init__` method):**\n",
        "   - `hidden_size`: This is the size of the hidden states of the sequences being processed by the attention mechanism.\n",
        "   - Three linear layers are defined as part of the attention mechanism: `Wa`, `Ua`, and `Va`. These layers are used to learn different sets of parameters that are used to compute attention scores.\n",
        "\n",
        "2. **Forward Pass (`forward` method):**\n",
        "   - `query`: This represents the current decoder's hidden state. It's the state of the decoder at a specific time step.\n",
        "   - `keys`: These are the encoder's hidden states, representing the entire input sequence.\n",
        "\n",
        "   The goal of the Bahdanau Attention mechanism is to compute attention scores for each time step of the encoder and determine which parts of the input sequence are more relevant for generating the current output.\n",
        "\n",
        "   - `self.Wa(query) + self.Ua(keys)`: This part calculates an intermediate value by summing the linear transformations of the decoder's hidden state and the encoder's hidden states. This helps the model to align the current decoder state with the encoder states.\n",
        "\n",
        "   - `torch.tanh(...)`: The intermediate value is then passed through the hyperbolic tangent activation function to ensure that the values fall within a certain range.\n",
        "\n",
        "   - `self.Va(...)`: The tanh-activated intermediate value is further passed through the third linear layer, which produces attention scores for each time step in the input sequence.\n",
        "\n",
        "   - `scores.squeeze(2).unsqueeze(1)`: This reshapes the attention scores tensor to have a shape of `(batch_size, 1, sequence_length)`, where `sequence_length` is the length of the input sequence.\n",
        "\n",
        "   - `F.softmax(...)`: The softmax function is applied to the attention scores along the sequence length dimension, resulting in attention weights that sum to 1 across the input sequence.\n",
        "\n",
        "   - `torch.bmm(...)`: This performs a batch matrix multiplication between the attention weights and the encoder's hidden states. It computes the context vector, which is a weighted sum of the encoder's hidden states based on the attention weights.\n",
        "\n",
        "   Finally, the `context` vector and the computed attention `weights` are returned."
      ],
      "metadata": {
        "id": "4faKWeavc_fc"
      }
    },
    {
      "cell_type": "markdown",
      "source": [
        "## Attention Model Workflow\n",
        "\n",
        "![](https://pytorch.org/tutorials/_images/attention-decoder-network.png)"
      ],
      "metadata": {
        "id": "nJMWekjsdX6s"
      }
    },
    {
      "cell_type": "code",
      "source": [
        "\"\"\"This decoder takes the encoder outputs and hidden states as input, generates a sequence by predicting tokens iteratively, and utilizes an attention mechanism to focus\n",
        "on different parts of the input sequence during decoding.\"\"\"\n",
        "\n",
        "class AttnDecoderRNN(nn.Module):\n",
        "  def __init__(self, hidden_size, output_size, dropout_p = 0.1):\n",
        "    super(AttnDecoderRNN, self).__init__()\n",
        "\n",
        "    self.embedding = nn.Embedding(output_size, hidden_size)\n",
        "    self.attention = BahdanauAttention(hidden_size)\n",
        "    self.gru = nn.GRU(2 * hidden_size, hidden_size, batch_first=True)\n",
        "    self.out = nn.Linear(hidden_size, output_size)\n",
        "    self.dropout = nn.Dropout(dropout_p)\n",
        "\n",
        "  def forward(self, encoder_outputs, encoder_hidden, target_tensor=None):\n",
        "    batch_size = encoder_outputs.size(0)\n",
        "    decoder_input = torch.empty(batch_size, 1, dtype=torch.long, device=device).fill_(SOS_token)\n",
        "    decoder_hidden = encoder_hidden\n",
        "    decoder_outputs = []\n",
        "    attentions = []\n",
        "\n",
        "    for i in range(MAX_LENGTH):\n",
        "      decoder_output, decoder_hidden, attn_weights = self.forward_step(\n",
        "          decoder_input, decoder_hidden, encoder_outputs\n",
        "      )\n",
        "      decoder_outputs.append(decoder_output)\n",
        "      attentions.append(attn_weights)\n",
        "\n",
        "      if target_tensor is not None:\n",
        "          # Teacher forcing: Feed the target as the next input\n",
        "          decoder_input = target_tensor[:, i].unsqueeze(1) # Teacher forcing\n",
        "      else:\n",
        "          # Without teacher forcing: use its own predictions as the next input\n",
        "          _, topi = decoder_output.topk(1)\n",
        "          decoder_input = topi.squeeze(-1).detach()  # detach from history as input\n",
        "\n",
        "    decoder_outputs = torch.cat(decoder_outputs, dim = 1)\n",
        "    decoder_outputs = F.log_softmax(decoder_outputs, dim = -1)\n",
        "    attentions = torch.cat(attentions, dim = 1)\n",
        "\n",
        "    return decoder_outputs, decoder_hidden, attentions\n",
        "\n",
        "  def forward_step(self, input, hidden, encoder_outputs):\n",
        "    embedded =  self.dropout(self.embedding(input))     #Embeds the input\n",
        "\n",
        "    query = hidden.permute(1, 0, 2)\n",
        "    context, attn_weights = self.attention(query, encoder_outputs)      #Calculates the query, context, and attention weights using the attention mechanism\n",
        "    input_gru = torch.cat((embedded, context), dim=2)   #Concatenates the embedded input and context vector\n",
        "\n",
        "    output, hidden = self.gru(input_gru, hidden)    #Passes the concatenated input to the GRU\n",
        "    output = self.out(output)       #Projects the GRU output to the output size\n",
        "\n",
        "    return output, hidden, attn_weights\n"
      ],
      "metadata": {
        "id": "fYNqsrHpcceX"
      },
      "execution_count": 21,
      "outputs": []
    },
    {
      "cell_type": "markdown",
      "source": [
        "# Preparing data using TensorDataset to fit the Model"
      ],
      "metadata": {
        "id": "ZU5y_dEGR7do"
      }
    },
    {
      "cell_type": "code",
      "source": [
        "#eturns a list of indexes corresponding to the words in the sentence using the word2index mapping\n",
        "def indexesFromSentence(lang, sentence):\n",
        "    return [lang.word2index[word] for word in sentence.split(' ')]\n",
        "    # Splits the sentence into words and returns a list of indexes corresponding to the words in the sentence using the word2index mapping within the language object.\n",
        "\n",
        "def tensorFromSentence(lang, sentence):\n",
        "    indexes = indexesFromSentence(lang, sentence)   #Calls indexesFromSentence to get the indexes for each word in the sentence.\n",
        "\n",
        "    indexes.append(EOS_token)   #Appends an EOS_token (end of sentence) to mark the end of the sentence.\n",
        "\n",
        "    return torch.tensor(indexes, dtype=torch.long, device=device).view(1, -1)   #Converts the list of indexes into a PyTorch tensor, reshaping it to have a shape of (1, sequence_length).\n",
        "\n",
        "def tensorsFromPair(pair):  #converts each sentence into tensors\n",
        "    input_tensor = tensorFromSentence(input_lang, pair[0])\n",
        "    target_tensor = tensorFromSentence(output_lang, pair[1])\n",
        "    return (input_tensor, target_tensor)\n",
        "\n",
        "#define the func above to create input and target tensors for the entire dataset of language pairs.\n",
        "def get_dataloader(batch_size):\n",
        "    input_lang, output_lang, pairs = prepareData('eng', 'fra', True)\n",
        "\n",
        "    n = len(pairs)\n",
        "    # arrays to store indexes of input and target sentences for the entire dataset.\n",
        "    input_ids = np.zeros((n, MAX_LENGTH), dtype=np.int32)\n",
        "    target_ids = np.zeros((n, MAX_LENGTH), dtype=np.int32)\n",
        "\n",
        "    for idx, (inp, tgt) in enumerate(pairs):\n",
        "        inp_ids = indexesFromSentence(input_lang, inp)\n",
        "        tgt_ids = indexesFromSentence(output_lang, tgt)\n",
        "        inp_ids.append(EOS_token)   # Append EOS to mark the end of sentence\n",
        "        tgt_ids.append(EOS_token)\n",
        "        #Pads the arrays input_ids and target_ids with indexes, ensuring they match the maximum sequence length (MAX_LENGTH).\n",
        "        input_ids[idx, :len(inp_ids)] = inp_ids\n",
        "        target_ids[idx, :len(tgt_ids)] = tgt_ids\n",
        "\n",
        "    # Making tensordataset and dataloader from the above data with batching it\n",
        "    train_data = TensorDataset(torch.LongTensor(input_ids).to(device),\n",
        "                               torch.LongTensor(target_ids).to(device))\n",
        "\n",
        "    train_sampler = RandomSampler(train_data)\n",
        "    train_dataloader = DataLoader(train_data, sampler=train_sampler, batch_size=batch_size)\n",
        "    return input_lang, output_lang, train_dataloader"
      ],
      "metadata": {
        "id": "dcZdeGZGRFdb"
      },
      "execution_count": 23,
      "outputs": []
    },
    {
      "cell_type": "markdown",
      "source": [
        "# Training\n"
      ],
      "metadata": {
        "id": "kPXRZ9QpUDyb"
      }
    },
    {
      "cell_type": "markdown",
      "source": [
        "## Model Training"
      ],
      "metadata": {
        "id": "X65OqmExUGYA"
      }
    },
    {
      "cell_type": "code",
      "source": [
        "def train_epoch(dataloader, encoder, decoder, encoder_optimizer,decoder_optimizer, criterion):\n",
        "\n",
        "    total_loss = 0\n",
        "    for data in dataloader:\n",
        "        input_tensor, target_tensor = data\n",
        "\n",
        "        encoder_optimizer.zero_grad()\n",
        "        decoder_optimizer.zero_grad()\n",
        "\n",
        "        encoder_outputs, encoder_hidden = encoder(input_tensor)\n",
        "        decoder_outputs, _, _ = decoder(encoder_outputs, encoder_hidden, target_tensor)\n",
        "\n",
        "        loss = criterion(\n",
        "            decoder_outputs.view(-1, decoder_outputs.size(-1)),target_tensor.view(-1)\n",
        "        )\n",
        "        loss.backward()\n",
        "\n",
        "        encoder_optimizer.step()\n",
        "        decoder_optimizer.step()\n",
        "\n",
        "        total_loss += loss.item()\n",
        "\n",
        "    return total_loss / len(dataloader)"
      ],
      "metadata": {
        "id": "aVDlJlFXUFdk"
      },
      "execution_count": 24,
      "outputs": []
    },
    {
      "cell_type": "code",
      "source": [
        "import time\n",
        "import math\n",
        "\n",
        "def asMinutes(s):\n",
        "    m = math.floor(s / 60)\n",
        "    s -= m * 60\n",
        "    return '%dm %ds' % (m, s)\n",
        "\n",
        "def timeSince(since, percent):\n",
        "    now = time.time()\n",
        "    s = now - since\n",
        "    es = s / (percent)\n",
        "    rs = es - s\n",
        "    return '%s (- %s)' % (asMinutes(s), asMinutes(rs))"
      ],
      "metadata": {
        "id": "yeGvMo_xUnUX"
      },
      "execution_count": 25,
      "outputs": []
    },
    {
      "cell_type": "code",
      "source": [
        "def showPlot(points):\n",
        "    plt.figure()\n",
        "    fig, ax = plt.subplots()\n",
        "    # this locator puts ticks at regular intervals\n",
        "    loc = ticker.MultipleLocator(base=0.2)\n",
        "    ax.yaxis.set_major_locator(loc)\n",
        "    plt.plot(points)"
      ],
      "metadata": {
        "id": "m8A5BB9XUr8O"
      },
      "execution_count": 26,
      "outputs": []
    },
    {
      "cell_type": "code",
      "source": [
        "def train(train_dataloader, encoder, decoder, n_epochs, learning_rate=0.001,print_every=100, plot_every=100):\n",
        "    start = time.time()\n",
        "    plot_losses = []\n",
        "    print_loss_total = 0  # Reset every print_every\n",
        "    plot_loss_total = 0  # Reset every plot_every\n",
        "\n",
        "    encoder_optimizer = optim.Adam(encoder.parameters(), lr=learning_rate)\n",
        "    decoder_optimizer = optim.Adam(decoder.parameters(), lr=learning_rate)\n",
        "    criterion = nn.NLLLoss()\n",
        "\n",
        "    for epoch in range(1, n_epochs + 1):\n",
        "        loss = train_epoch(train_dataloader, encoder, decoder, encoder_optimizer, decoder_optimizer, criterion)\n",
        "        print_loss_total += loss\n",
        "        plot_loss_total += loss\n",
        "\n",
        "        if epoch % print_every == 0:\n",
        "            print_loss_avg = print_loss_total / print_every\n",
        "            print_loss_total = 0\n",
        "            print('%s (%d %d%%) %.4f' % (timeSince(start, epoch / n_epochs),\n",
        "                                        epoch, epoch / n_epochs * 100, print_loss_avg))\n",
        "\n",
        "        if epoch % plot_every == 0:\n",
        "            plot_loss_avg = plot_loss_total / plot_every\n",
        "            plot_losses.append(plot_loss_avg)\n",
        "            plot_loss_total = 0\n",
        "\n",
        "    showPlot(plot_losses)"
      ],
      "metadata": {
        "id": "4knfeAyLUvf-"
      },
      "execution_count": 27,
      "outputs": []
    },
    {
      "cell_type": "markdown",
      "source": [
        "## Model Evaluation"
      ],
      "metadata": {
        "id": "SiJuE6SQVQn0"
      }
    },
    {
      "cell_type": "code",
      "source": [
        "def evaluate(encoder, decoder, sentence, input_lang, output_lang):\n",
        "    #  generating translations\n",
        "\n",
        "    with torch.no_grad():       # To switch off training\n",
        "        input_tensor = tensorFromSentence(input_lang, sentence)\n",
        "\n",
        "        encoder_outputs, encoder_hidden = encoder(input_tensor)\n",
        "        decoder_outputs, decoder_hidden, decoder_attn = decoder(encoder_outputs, encoder_hidden)\n",
        "\n",
        "        _, topi = decoder_outputs.topk(1)   #Selects the top predicted token (topi) for each step.\n",
        "        decoded_ids = topi.squeeze()\n",
        "\n",
        "        decoded_words = []\n",
        "        for idx in decoded_ids:\n",
        "            if idx.item() == EOS_token:\n",
        "                decoded_words.append('<EOS>')\n",
        "                break\n",
        "            decoded_words.append(output_lang.index2word[idx.item()])    #Converts the predicted token index to its corresponding word using the output_lang.index2word mapping.\n",
        "    return decoded_words, decoder_attn"
      ],
      "metadata": {
        "id": "98SL-AYkVHdN"
      },
      "execution_count": 28,
      "outputs": []
    },
    {
      "cell_type": "code",
      "source": [
        "def evaluateRandomly(encoder, decoder, n=10):\n",
        "    for i in range(n):\n",
        "        pair = random.choice(pairs)\n",
        "        print('>', pair[0])     #Input Sentence\n",
        "        print('=', pair[1])     #Target Sentence\n",
        "        output_words, _ = evaluate(encoder, decoder, pair[0], input_lang, output_lang)\n",
        "        output_sentence = ' '.join(output_words)\n",
        "        print('<', output_sentence) # Predicted Sentence\n",
        "        print('')"
      ],
      "metadata": {
        "id": "97tOx_E2WBUf"
      },
      "execution_count": 29,
      "outputs": []
    },
    {
      "cell_type": "markdown",
      "source": [
        "## Training the Model"
      ],
      "metadata": {
        "id": "9BzO7A41WpYZ"
      }
    },
    {
      "cell_type": "code",
      "source": [
        "hidden_size = 128\n",
        "batch_size = 32\n",
        "epochs = 20\n",
        "\n",
        "input_lang, output_lang, train_dataloader = get_dataloader(batch_size)\n",
        "\n",
        "encoder = EncoderRNN(input_lang.n_words, hidden_size).to(device)\n",
        "decoder = AttnDecoderRNN(hidden_size, output_lang.n_words).to(device)\n",
        "\n",
        "%matplotlib inline\n",
        "train(train_dataloader, encoder, decoder, epochs, print_every=5, plot_every=5)"
      ],
      "metadata": {
        "colab": {
          "base_uri": "https://localhost:8080/",
          "height": 638
        },
        "id": "oH2VaAiWWkKa",
        "outputId": "adc21c58-1215-43fd-e880-3d9a9ae40df8"
      },
      "execution_count": 30,
      "outputs": [
        {
          "output_type": "stream",
          "name": "stdout",
          "text": [
            "Reading lines.......\n",
            "Read 135842 sentence pair\n",
            "Trimmed to 11445 sentence pair\n",
            "Counting words....\n",
            "Counted Words: \n",
            "fra 4601\n",
            "eng 2991\n",
            "0m 38s (- 1m 55s) (5 25%) 1.5304\n",
            "1m 19s (- 1m 19s) (10 50%) 0.6775\n",
            "1m 58s (- 0m 39s) (15 75%) 0.3526\n",
            "2m 37s (- 0m 0s) (20 100%) 0.1949\n"
          ]
        },
        {
          "output_type": "display_data",
          "data": {
            "text/plain": [
              "<Figure size 640x480 with 0 Axes>"
            ]
          },
          "metadata": {}
        },
        {
          "output_type": "display_data",
          "data": {
            "text/plain": [
              "<Figure size 640x480 with 1 Axes>"
            ],
            "image/png": "[encoded data removed]"
          },
          "metadata": {}
        }
      ]
    },
    {
      "cell_type": "markdown",
      "source": [
        "## Evaluation"
      ],
      "metadata": {
        "id": "mESnPUzOW-4y"
      }
    },
    {
      "cell_type": "code",
      "source": [
        "encoder.eval()\n",
        "decoder.eval()\n",
        "evaluateRandomly(encoder, decoder)"
      ],
      "metadata": {
        "colab": {
          "base_uri": "https://localhost:8080/"
        },
        "id": "BW-OTP4UW2Q7",
        "outputId": "0709a424-d64b-4457-db7c-ed50ae8c77eb"
      },
      "execution_count": 31,
      "outputs": [
        {
          "output_type": "stream",
          "name": "stdout",
          "text": [
            "> je suis myope\n",
            "= i m nearsighted\n",
            "< i m nearsighted <EOS>\n",
            "\n",
            "> ils sont vieux\n",
            "= they re old\n",
            "< they re old enough <EOS>\n",
            "\n",
            "> nous sommes toutes differentes\n",
            "= we re all different\n",
            "< we re all different <EOS>\n",
            "\n",
            "> vous etes sur la liste\n",
            "= you re on the list\n",
            "< you re on the list man <EOS>\n",
            "\n",
            "> je saigne gravement\n",
            "= i m bleeding badly\n",
            "< i m bleeding badly i can <EOS>\n",
            "\n",
            "> il n est pas parfait\n",
            "= he isn t perfect\n",
            "< he s not perfect <EOS>\n",
            "\n",
            "> tu es egoiste\n",
            "= you re selfish\n",
            "< you re selfish <EOS>\n",
            "\n",
            "> aujourd hui elle va beaucoup mieux qu hier\n",
            "= she s much better today than yesterday\n",
            "< she s feeling much better today <EOS>\n",
            "\n",
            "> ils courent dans le parc\n",
            "= they are running in the park\n",
            "< they are running in the park <EOS>\n",
            "\n",
            "> je ne suis pas normal\n",
            "= i m not normal\n",
            "< i m not normal <EOS>\n",
            "\n"
          ]
        }
      ]
    },
    {
      "cell_type": "markdown",
      "source": [
        "# Visualisation of how Attention mechanism Works"
      ],
      "metadata": {
        "id": "3jnfw3mLXX7u"
      }
    },
    {
      "cell_type": "code",
      "source": [
        "def showAttention(input_sentence, output_words, attentions):\n",
        "    fig = plt.figure()\n",
        "    ax = fig.add_subplot(111)\n",
        "    cax = ax.matshow(attentions.cpu().numpy(), cmap='bone')\n",
        "    fig.colorbar(cax)\n",
        "\n",
        "    # Set up axes\n",
        "    ax.set_xticklabels([''] + input_sentence.split(' ') +\n",
        "                       ['<EOS>'], rotation=90)\n",
        "    ax.set_yticklabels([''] + output_words)\n",
        "\n",
        "    # Show label at every tick\n",
        "    ax.xaxis.set_major_locator(ticker.MultipleLocator(1))\n",
        "    ax.yaxis.set_major_locator(ticker.MultipleLocator(1))\n",
        "\n",
        "    plt.show()\n",
        "\n",
        "\n",
        "def evaluateAndShowAttention(input_sentence):\n",
        "    output_words, attentions = evaluate(encoder, decoder, input_sentence, input_lang, output_lang)\n",
        "    print('input =', input_sentence)\n",
        "    print('output =', ' '.join(output_words))\n",
        "    showAttention(input_sentence, output_words, attentions[0, :len(output_words), :])"
      ],
      "metadata": {
        "id": "yeo9buy6XdKi"
      },
      "execution_count": 32,
      "outputs": []
    },
    {
      "cell_type": "code",
      "source": [
        "import warnings\n",
        "warnings.filterwarnings(\"ignore\")"
      ],
      "metadata": {
        "id": "DfD_3TfrX2J1"
      },
      "execution_count": 33,
      "outputs": []
    },
    {
      "cell_type": "code",
      "source": [
        "%matplotlib inline\n",
        "evaluateAndShowAttention('il n est pas aussi grand que son pere')"
      ],
      "metadata": {
        "colab": {
          "base_uri": "https://localhost:8080/",
          "height": 496
        },
        "id": "1B75lIXaX2mo",
        "outputId": "91dfc586-e543-44bb-a3ea-99aa0b42af24"
      },
      "execution_count": 34,
      "outputs": [
        {
          "output_type": "stream",
          "name": "stdout",
          "text": [
            "input = il n est pas aussi grand que son pere\n",
            "output = he is not as tall as his father <EOS>\n"
          ]
        },
        {
          "output_type": "display_data",
          "data": {
            "text/plain": [
              "<Figure size 640x480 with 2 Axes>"
            ],
            "image/png": "[encoded data removed]"
          },
          "metadata": {}
        }
      ]
    },
    {
      "cell_type": "code",
      "source": [
        "%matplotlib inline\n",
        "evaluateAndShowAttention('je suis reellement fiere de vous')"
      ],
      "metadata": {
        "colab": {
          "base_uri": "https://localhost:8080/",
          "height": 531
        },
        "id": "_N9L5FeZX_CM",
        "outputId": "1d889a55-74f0-49e1-8049-aca80761192b"
      },
      "execution_count": 36,
      "outputs": [
        {
          "output_type": "stream",
          "name": "stdout",
          "text": [
            "input = je suis reellement fiere de vous\n",
            "output = i m really proud of you guys <EOS>\n"
          ]
        },
        {
          "output_type": "display_data",
          "data": {
            "text/plain": [
              "<Figure size 640x480 with 2 Axes>"
            ],
            "image/png": "[encoded data removed]"
          },
          "metadata": {}
        }
      ]
    },
    {
      "cell_type": "code",
      "source": [
        "%matplotlib inline\n",
        "evaluateAndShowAttention(\"je vais chez le dentiste demain\")"
      ],
      "metadata": {
        "colab": {
          "base_uri": "https://localhost:8080/",
          "height": 512
        },
        "id": "cADod2UdYF4l",
        "outputId": "147708d8-4cb1-475f-bd30-40b1f3ac53a9"
      },
      "execution_count": 46,
      "outputs": [
        {
          "output_type": "stream",
          "name": "stdout",
          "text": [
            "input = je vais chez le dentiste demain\n",
            "output = i am going to see the dentist tomorrow <EOS>\n"
          ]
        },
        {
          "output_type": "display_data",
          "data": {
            "text/plain": [
              "<Figure size 640x480 with 2 Axes>"
            ],
            "image/png": "[encoded data removed]"
          },
          "metadata": {}
        }
      ]
    },
    {
      "cell_type": "code",
      "source": [
        "%matplotlib inline\n",
        "evaluateAndShowAttention(\"j ai peur qu il ne soit pas la avant heures\")"
      ],
      "metadata": {
        "colab": {
          "base_uri": "https://localhost:8080/",
          "height": 483
        },
        "id": "51EMDmaHaHhd",
        "outputId": "10743305-74ea-400b-8b6a-34aaab6f7273"
      },
      "execution_count": 56,
      "outputs": [
        {
          "output_type": "stream",
          "name": "stdout",
          "text": [
            "input = j ai peur qu il ne soit pas la avant heures\n",
            "output = i m afraid he will be not the entrance <EOS>\n"
          ]
        },
        {
          "output_type": "display_data",
          "data": {
            "text/plain": [
              "<Figure size 640x480 with 2 Axes>"
            ],
            "image/png": "[encoded data removed]"
          },
          "metadata": {}
        }
      ]
    },
    {
      "cell_type": "code",
      "source": [],
      "metadata": {
        "id": "mjtESCh6aQwn"
      },
      "execution_count": null,
      "outputs": []
    }
  ]
}