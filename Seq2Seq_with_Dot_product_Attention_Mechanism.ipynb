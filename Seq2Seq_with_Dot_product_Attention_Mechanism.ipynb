{
  "nbformat": 4,
  "nbformat_minor": 0,
  "metadata": {
    "colab": {
      "provenance": [],
      "gpuType": "T4",
      "authorship_tag": "ABX9TyMtTpsnOL7Kh3gb0ebQElrm",
      "include_colab_link": true
    },
    "kernelspec": {
      "name": "python3",
      "display_name": "Python 3"
    },
    "language_info": {
      "name": "python"
    },
    "accelerator": "GPU"
  },
  "cells": [
    {
      "cell_type": "markdown",
      "metadata": {
        "id": "view-in-github",
        "colab_type": "text"
      },
      "source": [
        "<a href=\"https://colab.research.google.com/github/Zenith1618/LLM/blob/main/Seq2Seq_with_Dot_product_Attention_Mechanism.ipynb\" target=\"_parent\"><img src=\"https://colab.research.google.com/assets/colab-badge.svg\" alt=\"Open In Colab\"/></a>"
      ]
    },
    {
      "cell_type": "markdown",
      "source": [
        "# Importing Libraries\n"
      ],
      "metadata": {
        "id": "GLe7uO5HkIq2"
      }
    },
    {
      "cell_type": "code",
      "source": [
        "!pip install fake_useragent"
      ],
      "metadata": {
        "colab": {
          "base_uri": "https://localhost:8080/"
        },
        "id": "yYWjdVeukjn4",
        "outputId": "738e0d3a-2efa-4823-c4c6-a0360ecf642e"
      },
      "execution_count": 9,
      "outputs": [
        {
          "output_type": "stream",
          "name": "stdout",
          "text": [
            "Collecting fake_useragent\n",
            "  Downloading fake_useragent-1.4.0-py3-none-any.whl (15 kB)\n",
            "Installing collected packages: fake_useragent\n",
            "Successfully installed fake_useragent-1.4.0\n"
          ]
        }
      ]
    },
    {
      "cell_type": "code",
      "source": [
        "from __future__ import unicode_literals, print_function, division\n",
        "from io import open\n",
        "import unicodedata\n",
        "import requests\n",
        "import string\n",
        "import re\n",
        "import random\n",
        "import os\n",
        "import shutil\n",
        "import zipfile\n",
        "import pandas as pd\n",
        "from fake_useragent import UserAgent    #library to mimic a user agent in the headers to make it appear more like a request from a web browser.\n",
        "\n",
        "\n",
        "import torch\n",
        "import torch.nn as nn\n",
        "from torch import optim\n",
        "import torch.nn.functional as F\n",
        "\n",
        "device = torch.device(\"cuda\" if torch.cuda.is_available() else \"cpu\")"
      ],
      "metadata": {
        "id": "0dFfvsExgAvn"
      },
      "execution_count": 2,
      "outputs": []
    },
    {
      "cell_type": "code",
      "source": [
        "device"
      ],
      "metadata": {
        "colab": {
          "base_uri": "https://localhost:8080/"
        },
        "id": "7NqifUjkkcO3",
        "outputId": "6d96c44c-21a7-402a-9c43-14b3ad6b7bf1"
      },
      "execution_count": 3,
      "outputs": [
        {
          "output_type": "execute_result",
          "data": {
            "text/plain": [
              "device(type='cuda')"
            ]
          },
          "metadata": {},
          "execution_count": 3
        }
      ]
    },
    {
      "cell_type": "markdown",
      "source": [
        "# Downloading and Loading the dataset"
      ],
      "metadata": {
        "id": "pH8tRZipkVqs"
      }
    },
    {
      "cell_type": "code",
      "source": [
        "url = 'http://www.manythings.org/anki/fra-eng.zip'\n",
        "filename = 'fra-eng.zip'\n",
        "path = os.getcwd()\n",
        "zipfilename = os.path.join(path, filename)\n",
        "\n",
        "# Use a fake user agent to mimic a browser request\n",
        "headers = {'User-Agent': UserAgent().random}\n",
        "\n",
        "# Download the zip file\n",
        "response = requests.get(url, stream=True, headers=headers)\n",
        "if response.status_code == 200 and 'Content-Type' in response.headers and response.headers['Content-Type'] == 'application/zip':\n",
        "    with open(zipfilename, 'wb') as out_file:\n",
        "        shutil.copyfileobj(response.raw, out_file)\n",
        "\n",
        "    # Extract the contents of the zip file\n",
        "    with zipfile.ZipFile(zipfilename, 'r') as zip_ref:\n",
        "        zip_ref.extractall(path)\n",
        "\n",
        "    # Remove the downloaded zip file if needed\n",
        "    # os.remove(zipfilename)\n",
        "else:\n",
        "    print(\"Failed to download the zip file. Check the URL or try again later.\")\n"
      ],
      "metadata": {
        "id": "v09vJ95El1ju"
      },
      "execution_count": 10,
      "outputs": []
    },
    {
      "cell_type": "code",
      "source": [
        "!ls"
      ],
      "metadata": {
        "colab": {
          "base_uri": "https://localhost:8080/"
        },
        "id": "8CSoDYKjl4aU",
        "outputId": "c80014e6-d598-41a9-c7f1-3a720b976087"
      },
      "execution_count": 11,
      "outputs": [
        {
          "output_type": "stream",
          "name": "stdout",
          "text": [
            "_about.txt  fra-eng.zip  fra.txt  sample_data\n"
          ]
        }
      ]
    },
    {
      "cell_type": "code",
      "source": [],
      "metadata": {
        "id": "W3_7zPqImAQv"
      },
      "execution_count": null,
      "outputs": []
    }
  ]
}