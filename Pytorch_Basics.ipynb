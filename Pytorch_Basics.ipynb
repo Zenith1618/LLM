{
  "nbformat": 4,
  "nbformat_minor": 0,
  "metadata": {
    "colab": {
      "provenance": []
    },
    "kernelspec": {
      "name": "python3",
      "display_name": "Python 3"
    },
    "language_info": {
      "name": "python"
    }
  },
  "cells": [
    {
      "cell_type": "code",
      "execution_count": 1,
      "metadata": {
        "colab": {
          "base_uri": "https://localhost:8080/"
        },
        "id": "mRtwVHizKWyf",
        "outputId": "efc19b78-c4b0-4b82-b723-9b917105aa6e"
      },
      "outputs": [
        {
          "output_type": "stream",
          "name": "stdout",
          "text": [
            "Requirement already satisfied: torch in /usr/local/lib/python3.10/dist-packages (2.0.1+cu118)\n",
            "Requirement already satisfied: filelock in /usr/local/lib/python3.10/dist-packages (from torch) (3.12.2)\n",
            "Requirement already satisfied: typing-extensions in /usr/local/lib/python3.10/dist-packages (from torch) (4.5.0)\n",
            "Requirement already satisfied: sympy in /usr/local/lib/python3.10/dist-packages (from torch) (1.12)\n",
            "Requirement already satisfied: networkx in /usr/local/lib/python3.10/dist-packages (from torch) (3.1)\n",
            "Requirement already satisfied: jinja2 in /usr/local/lib/python3.10/dist-packages (from torch) (3.1.2)\n",
            "Requirement already satisfied: triton==2.0.0 in /usr/local/lib/python3.10/dist-packages (from torch) (2.0.0)\n",
            "Requirement already satisfied: cmake in /usr/local/lib/python3.10/dist-packages (from triton==2.0.0->torch) (3.27.4.1)\n",
            "Requirement already satisfied: lit in /usr/local/lib/python3.10/dist-packages (from triton==2.0.0->torch) (16.0.6)\n",
            "Requirement already satisfied: MarkupSafe>=2.0 in /usr/local/lib/python3.10/dist-packages (from jinja2->torch) (2.1.3)\n",
            "Requirement already satisfied: mpmath>=0.19 in /usr/local/lib/python3.10/dist-packages (from sympy->torch) (1.3.0)\n"
          ]
        }
      ],
      "source": [
        "!pip install torch"
      ]
    },
    {
      "cell_type": "code",
      "source": [
        "import torch\n",
        "import numpy as np"
      ],
      "metadata": {
        "id": "wRbexP43K9KF"
      },
      "execution_count": 2,
      "outputs": []
    },
    {
      "cell_type": "markdown",
      "source": [
        "# Basics"
      ],
      "metadata": {
        "id": "eqQoP8TvM-iB"
      }
    },
    {
      "cell_type": "code",
      "source": [
        "# Create tensor from List\n",
        "\n",
        "data = [[1,2],[3,4]]\n",
        "tensors = torch.tensor(data)"
      ],
      "metadata": {
        "id": "Ubd4NgLALFr8"
      },
      "execution_count": 3,
      "outputs": []
    },
    {
      "cell_type": "code",
      "source": [
        "tensors"
      ],
      "metadata": {
        "colab": {
          "base_uri": "https://localhost:8080/"
        },
        "id": "ZY3cpt9yLXJN",
        "outputId": "f147e536-c8df-4730-82b0-1b25b1697cee"
      },
      "execution_count": 4,
      "outputs": [
        {
          "output_type": "execute_result",
          "data": {
            "text/plain": [
              "tensor([[1, 2],\n",
              "        [3, 4]])"
            ]
          },
          "metadata": {},
          "execution_count": 4
        }
      ]
    },
    {
      "cell_type": "code",
      "source": [
        "# Create tensor from Numpy\n",
        "\n",
        "np_array = np.arange(10)\n",
        "tensor_np = torch.from_numpy(np_array)"
      ],
      "metadata": {
        "id": "XVPmSqkYLYzT"
      },
      "execution_count": 5,
      "outputs": []
    },
    {
      "cell_type": "code",
      "source": [
        "tensor_np"
      ],
      "metadata": {
        "colab": {
          "base_uri": "https://localhost:8080/"
        },
        "id": "GKANPDVRLhtn",
        "outputId": "4109b832-a74c-422a-de3f-774d02ce3b8f"
      },
      "execution_count": 6,
      "outputs": [
        {
          "output_type": "execute_result",
          "data": {
            "text/plain": [
              "tensor([0, 1, 2, 3, 4, 5, 6, 7, 8, 9])"
            ]
          },
          "metadata": {},
          "execution_count": 6
        }
      ]
    },
    {
      "cell_type": "code",
      "source": [
        "tensor_np.shape"
      ],
      "metadata": {
        "colab": {
          "base_uri": "https://localhost:8080/"
        },
        "id": "tcg7aTwBLi6z",
        "outputId": "6e5c90d6-c552-4f37-b733-fca9d3ba0448"
      },
      "execution_count": 7,
      "outputs": [
        {
          "output_type": "execute_result",
          "data": {
            "text/plain": [
              "torch.Size([10])"
            ]
          },
          "metadata": {},
          "execution_count": 7
        }
      ]
    },
    {
      "cell_type": "code",
      "source": [
        "tensor_np.ndim"
      ],
      "metadata": {
        "colab": {
          "base_uri": "https://localhost:8080/"
        },
        "id": "r47ofCBdLm94",
        "outputId": "641e462a-6b7f-4b9b-8b25-a6562ca4840f"
      },
      "execution_count": 8,
      "outputs": [
        {
          "output_type": "execute_result",
          "data": {
            "text/plain": [
              "1"
            ]
          },
          "metadata": {},
          "execution_count": 8
        }
      ]
    },
    {
      "cell_type": "code",
      "source": [
        "tensor_np.dtype"
      ],
      "metadata": {
        "colab": {
          "base_uri": "https://localhost:8080/"
        },
        "id": "_L9CyGt-Lpd8",
        "outputId": "476c015e-0ec2-4350-863a-2e48b9c04c11"
      },
      "execution_count": 9,
      "outputs": [
        {
          "output_type": "execute_result",
          "data": {
            "text/plain": [
              "torch.int64"
            ]
          },
          "metadata": {},
          "execution_count": 9
        }
      ]
    },
    {
      "cell_type": "markdown",
      "source": [
        "# Tensor Operations"
      ],
      "metadata": {
        "id": "C4wB_pEQNLt5"
      }
    },
    {
      "cell_type": "code",
      "source": [
        "ten1 = torch.tensor([1,2,3])\n",
        "ten2 = torch.tensor([4,5,6])\n",
        "ten1 + ten2"
      ],
      "metadata": {
        "colab": {
          "base_uri": "https://localhost:8080/"
        },
        "id": "vl9dADPILsDB",
        "outputId": "e68a0918-9e58-460f-f3c9-92b6bea92cf6"
      },
      "execution_count": 10,
      "outputs": [
        {
          "output_type": "execute_result",
          "data": {
            "text/plain": [
              "tensor([5, 7, 9])"
            ]
          },
          "metadata": {},
          "execution_count": 10
        }
      ]
    },
    {
      "cell_type": "code",
      "source": [
        "torch.add(ten1, ten2)   #another way to add"
      ],
      "metadata": {
        "colab": {
          "base_uri": "https://localhost:8080/"
        },
        "id": "AphfLWSKL0q_",
        "outputId": "05bf75f0-4c18-433c-c780-a44504edf41a"
      },
      "execution_count": 12,
      "outputs": [
        {
          "output_type": "execute_result",
          "data": {
            "text/plain": [
              "tensor([5, 7, 9])"
            ]
          },
          "metadata": {},
          "execution_count": 12
        }
      ]
    },
    {
      "cell_type": "code",
      "source": [
        "torch.sub(ten2, ten1)"
      ],
      "metadata": {
        "colab": {
          "base_uri": "https://localhost:8080/"
        },
        "id": "oveAgqwlL4ZU",
        "outputId": "4276ef21-724e-4b2a-ea95-44030d4992a0"
      },
      "execution_count": 13,
      "outputs": [
        {
          "output_type": "execute_result",
          "data": {
            "text/plain": [
              "tensor([3, 3, 3])"
            ]
          },
          "metadata": {},
          "execution_count": 13
        }
      ]
    },
    {
      "cell_type": "code",
      "source": [
        "torch.subtract(ten2, ten1)"
      ],
      "metadata": {
        "colab": {
          "base_uri": "https://localhost:8080/"
        },
        "id": "jFPV1KyOL-Hc",
        "outputId": "f5e5add9-8c12-428d-c926-3c7e8dd82d54"
      },
      "execution_count": 14,
      "outputs": [
        {
          "output_type": "execute_result",
          "data": {
            "text/plain": [
              "tensor([3, 3, 3])"
            ]
          },
          "metadata": {},
          "execution_count": 14
        }
      ]
    },
    {
      "cell_type": "code",
      "source": [
        "ten1*10"
      ],
      "metadata": {
        "colab": {
          "base_uri": "https://localhost:8080/"
        },
        "id": "N8ZTXDI3MCsC",
        "outputId": "9e82f016-481b-4234-ea95-d49b5abc1acf"
      },
      "execution_count": 15,
      "outputs": [
        {
          "output_type": "execute_result",
          "data": {
            "text/plain": [
              "tensor([10, 20, 30])"
            ]
          },
          "metadata": {},
          "execution_count": 15
        }
      ]
    },
    {
      "cell_type": "markdown",
      "source": [
        "**Matrix Multiplication**\n",
        "\n",
        "\n",
        "Rules of Matrix Multiplication:\n",
        "\n",
        "(3,2) * (3,2) = Error\n",
        "\n",
        "(4,3) * (3,2) = (4,2)\n",
        "\n",
        "(2,2) * (2,5) = (2,5)"
      ],
      "metadata": {
        "id": "990WDFpRNWgY"
      }
    },
    {
      "cell_type": "code",
      "source": [
        "matrix4_3 = torch.tensor([[1,2,3],\n",
        "[4,5,6],\n",
        "[7,8,9],\n",
        "[10,11,12]])\n"
      ],
      "metadata": {
        "id": "WO9H7kt0MFlh"
      },
      "execution_count": 20,
      "outputs": []
    },
    {
      "cell_type": "code",
      "source": [
        "matrix4_3.shape"
      ],
      "metadata": {
        "colab": {
          "base_uri": "https://localhost:8080/"
        },
        "id": "ahz12yOSNZh4",
        "outputId": "a33a7732-2dfb-450b-c804-79da3fc6c5e1"
      },
      "execution_count": 21,
      "outputs": [
        {
          "output_type": "execute_result",
          "data": {
            "text/plain": [
              "torch.Size([4, 3])"
            ]
          },
          "metadata": {},
          "execution_count": 21
        }
      ]
    },
    {
      "cell_type": "code",
      "source": [
        "matrix3_2 = torch.tensor([[1,2],\n",
        "[3,4],\n",
        "[5,6]])"
      ],
      "metadata": {
        "id": "-ny2yIweNoVM"
      },
      "execution_count": 22,
      "outputs": []
    },
    {
      "cell_type": "code",
      "source": [
        "matrix3_2.shape"
      ],
      "metadata": {
        "colab": {
          "base_uri": "https://localhost:8080/"
        },
        "id": "4NkaXM4JN8do",
        "outputId": "e661a3ac-95b2-4564-9e5a-50e0a6ba357e"
      },
      "execution_count": 23,
      "outputs": [
        {
          "output_type": "execute_result",
          "data": {
            "text/plain": [
              "torch.Size([3, 2])"
            ]
          },
          "metadata": {},
          "execution_count": 23
        }
      ]
    },
    {
      "cell_type": "code",
      "source": [
        "result = torch.matmul(matrix4_3, matrix3_2)   #=> Result will be (4,2)"
      ],
      "metadata": {
        "id": "UQ62bRjDN-RA"
      },
      "execution_count": 25,
      "outputs": []
    },
    {
      "cell_type": "code",
      "source": [
        "result"
      ],
      "metadata": {
        "colab": {
          "base_uri": "https://localhost:8080/"
        },
        "id": "f6sJvPOhONvZ",
        "outputId": "a7852245-c67c-4c52-dbe7-3d6ab98be57a"
      },
      "execution_count": 26,
      "outputs": [
        {
          "output_type": "execute_result",
          "data": {
            "text/plain": [
              "tensor([[ 22,  28],\n",
              "        [ 49,  64],\n",
              "        [ 76, 100],\n",
              "        [103, 136]])"
            ]
          },
          "metadata": {},
          "execution_count": 26
        }
      ]
    },
    {
      "cell_type": "code",
      "source": [
        "result.shape"
      ],
      "metadata": {
        "colab": {
          "base_uri": "https://localhost:8080/"
        },
        "id": "Vz0CNHvYOTtA",
        "outputId": "b2ff8321-6c97-4545-e3b3-536b97b2fd5a"
      },
      "execution_count": 27,
      "outputs": [
        {
          "output_type": "execute_result",
          "data": {
            "text/plain": [
              "torch.Size([4, 2])"
            ]
          },
          "metadata": {},
          "execution_count": 27
        }
      ]
    },
    {
      "cell_type": "code",
      "source": [
        "# You can also use torch.mm() which is a short for torch.matmul()\n",
        "\n",
        "torch.mm(matrix4_3, matrix3_2)"
      ],
      "metadata": {
        "colab": {
          "base_uri": "https://localhost:8080/"
        },
        "id": "TWnOfRK6OYkN",
        "outputId": "c346c2c8-dd61-406a-cc83-5a3f9ba10457"
      },
      "execution_count": 28,
      "outputs": [
        {
          "output_type": "execute_result",
          "data": {
            "text/plain": [
              "tensor([[ 22,  28],\n",
              "        [ 49,  64],\n",
              "        [ 76, 100],\n",
              "        [103, 136]])"
            ]
          },
          "metadata": {},
          "execution_count": 28
        }
      ]
    },
    {
      "cell_type": "code",
      "source": [
        "matrix4_3"
      ],
      "metadata": {
        "colab": {
          "base_uri": "https://localhost:8080/"
        },
        "id": "Gxuz-2JWOhdP",
        "outputId": "b64b3bb5-8256-47db-d56d-e4e5aec7b2b7"
      },
      "execution_count": 29,
      "outputs": [
        {
          "output_type": "execute_result",
          "data": {
            "text/plain": [
              "tensor([[ 1,  2,  3],\n",
              "        [ 4,  5,  6],\n",
              "        [ 7,  8,  9],\n",
              "        [10, 11, 12]])"
            ]
          },
          "metadata": {},
          "execution_count": 29
        }
      ]
    },
    {
      "cell_type": "code",
      "source": [
        "# Transpose\n",
        "matrix4_3.T"
      ],
      "metadata": {
        "colab": {
          "base_uri": "https://localhost:8080/"
        },
        "id": "rPxfX2ZBOlaP",
        "outputId": "cb54c437-6536-4a1f-c1d8-0fa7df35c904"
      },
      "execution_count": 30,
      "outputs": [
        {
          "output_type": "execute_result",
          "data": {
            "text/plain": [
              "tensor([[ 1,  4,  7, 10],\n",
              "        [ 2,  5,  8, 11],\n",
              "        [ 3,  6,  9, 12]])"
            ]
          },
          "metadata": {},
          "execution_count": 30
        }
      ]
    },
    {
      "cell_type": "code",
      "source": [
        "# OR\n",
        "\n",
        "torch.t(matrix4_3)"
      ],
      "metadata": {
        "colab": {
          "base_uri": "https://localhost:8080/"
        },
        "id": "lLhxv1B7On4v",
        "outputId": "94273112-190d-42f1-86ef-5c8cb43fc97d"
      },
      "execution_count": 31,
      "outputs": [
        {
          "output_type": "execute_result",
          "data": {
            "text/plain": [
              "tensor([[ 1,  4,  7, 10],\n",
              "        [ 2,  5,  8, 11],\n",
              "        [ 3,  6,  9, 12]])"
            ]
          },
          "metadata": {},
          "execution_count": 31
        }
      ]
    },
    {
      "cell_type": "markdown",
      "source": [
        "#Some PyTorch Operations"
      ],
      "metadata": {
        "id": "ak2cQhRcPhiU"
      }
    },
    {
      "cell_type": "code",
      "source": [
        "# Zeros\n",
        "\n",
        "tensorZeroes = torch.zeros((3,2))\n",
        "tensorZeroes"
      ],
      "metadata": {
        "colab": {
          "base_uri": "https://localhost:8080/"
        },
        "id": "ieBt-gFXOtzP",
        "outputId": "54d18ee6-fb3a-418a-c820-2060463e5a3a"
      },
      "execution_count": 32,
      "outputs": [
        {
          "output_type": "execute_result",
          "data": {
            "text/plain": [
              "tensor([[0., 0.],\n",
              "        [0., 0.],\n",
              "        [0., 0.]])"
            ]
          },
          "metadata": {},
          "execution_count": 32
        }
      ]
    },
    {
      "cell_type": "code",
      "source": [
        "# Ones\n",
        "\n",
        "tensorOnes = torch.ones((3,2))\n",
        "tensorOnes"
      ],
      "metadata": {
        "colab": {
          "base_uri": "https://localhost:8080/"
        },
        "id": "NEIzhl8ZPl7j",
        "outputId": "b14bc50f-0e60-4b05-c003-54c46bed4688"
      },
      "execution_count": 33,
      "outputs": [
        {
          "output_type": "execute_result",
          "data": {
            "text/plain": [
              "tensor([[1., 1.],\n",
              "        [1., 1.],\n",
              "        [1., 1.]])"
            ]
          },
          "metadata": {},
          "execution_count": 33
        }
      ]
    },
    {
      "cell_type": "code",
      "source": [
        "# Random: but include negative tensor\n",
        "tensorRandomN = torch.randn((3,2))\n",
        "tensorRandomN"
      ],
      "metadata": {
        "colab": {
          "base_uri": "https://localhost:8080/"
        },
        "id": "SmBILedtP0NY",
        "outputId": "f78e2ea8-36d9-4f78-9c1e-18463dcad206"
      },
      "execution_count": 35,
      "outputs": [
        {
          "output_type": "execute_result",
          "data": {
            "text/plain": [
              "tensor([[ 0.2742,  0.0239],\n",
              "        [-0.8244,  0.9877],\n",
              "        [-0.6233,  0.2078]])"
            ]
          },
          "metadata": {},
          "execution_count": 35
        }
      ]
    },
    {
      "cell_type": "code",
      "source": [
        "# Random: but only +ve tensor\n",
        "tensorRandom = torch.rand((3,2))\n",
        "tensorRandom"
      ],
      "metadata": {
        "colab": {
          "base_uri": "https://localhost:8080/"
        },
        "id": "r-sL0nEbQIqv",
        "outputId": "871e9ee7-53fd-4135-c622-66527e4237b6"
      },
      "execution_count": 36,
      "outputs": [
        {
          "output_type": "execute_result",
          "data": {
            "text/plain": [
              "tensor([[0.7899, 0.6967],\n",
              "        [0.5560, 0.7296],\n",
              "        [0.6986, 0.4421]])"
            ]
          },
          "metadata": {},
          "execution_count": 36
        }
      ]
    },
    {
      "cell_type": "code",
      "source": [
        "customFill = torch.full((3,2), 0.001)\n",
        "customFill"
      ],
      "metadata": {
        "colab": {
          "base_uri": "https://localhost:8080/"
        },
        "id": "i7o79DrPQRrA",
        "outputId": "40b59cd3-a33f-4465-8d48-2c1ce3b31f11"
      },
      "execution_count": 38,
      "outputs": [
        {
          "output_type": "execute_result",
          "data": {
            "text/plain": [
              "tensor([[0.0010, 0.0010],\n",
              "        [0.0010, 0.0010],\n",
              "        [0.0010, 0.0010]])"
            ]
          },
          "metadata": {},
          "execution_count": 38
        }
      ]
    },
    {
      "cell_type": "markdown",
      "source": [
        "# Quickstart\n",
        "\n",
        "\n",
        "The torchvision package consists of popular datasets, model architectures, and common image transformations for computer vision."
      ],
      "metadata": {
        "id": "y0VEZY1KQ7AS"
      }
    },
    {
      "cell_type": "code",
      "source": [
        "!pip install torchvision --no-deps"
      ],
      "metadata": {
        "colab": {
          "base_uri": "https://localhost:8080/"
        },
        "id": "A7E40McRQwg2",
        "outputId": "3801aa82-2ad4-4fb0-b3a9-c3a5680d6dd8"
      },
      "execution_count": 39,
      "outputs": [
        {
          "output_type": "stream",
          "name": "stdout",
          "text": [
            "Requirement already satisfied: torchvision in /usr/local/lib/python3.10/dist-packages (0.15.2+cu118)\n"
          ]
        }
      ]
    },
    {
      "cell_type": "code",
      "source": [
        "from torch.utils.data import DataLoader\n",
        "from torchvision import datasets\n",
        "from torchvision.transforms import ToTensor\n",
        "from torch import nn"
      ],
      "metadata": {
        "id": "-utEqs8yQ--Q"
      },
      "execution_count": 40,
      "outputs": []
    },
    {
      "cell_type": "code",
      "source": [
        "# Download the training data from open dataset\n",
        "training_data = datasets.FashionMNIST(\n",
        "    root=\"data\",\n",
        "    train=True,\n",
        "    download=True,\n",
        "    transform = ToTensor(),\n",
        ")"
      ],
      "metadata": {
        "colab": {
          "base_uri": "https://localhost:8080/"
        },
        "id": "WSoud20JRQ7b",
        "outputId": "f5f10da5-d872-4f57-fe36-0aaceae61b1f"
      },
      "execution_count": 41,
      "outputs": [
        {
          "output_type": "stream",
          "name": "stdout",
          "text": [
            "Downloading http://fashion-mnist.s3-website.eu-central-1.amazonaws.com/train-images-idx3-ubyte.gz\n",
            "Downloading http://fashion-mnist.s3-website.eu-central-1.amazonaws.com/train-images-idx3-ubyte.gz to data/FashionMNIST/raw/train-images-idx3-ubyte.gz\n"
          ]
        },
        {
          "output_type": "stream",
          "name": "stderr",
          "text": [
            "100%|██████████| 26421880/26421880 [00:01<00:00, 19782667.76it/s]\n"
          ]
        },
        {
          "output_type": "stream",
          "name": "stdout",
          "text": [
            "Extracting data/FashionMNIST/raw/train-images-idx3-ubyte.gz to data/FashionMNIST/raw\n",
            "\n",
            "Downloading http://fashion-mnist.s3-website.eu-central-1.amazonaws.com/train-labels-idx1-ubyte.gz\n",
            "Downloading http://fashion-mnist.s3-website.eu-central-1.amazonaws.com/train-labels-idx1-ubyte.gz to data/FashionMNIST/raw/train-labels-idx1-ubyte.gz\n"
          ]
        },
        {
          "output_type": "stream",
          "name": "stderr",
          "text": [
            "100%|██████████| 29515/29515 [00:00<00:00, 310427.80it/s]\n"
          ]
        },
        {
          "output_type": "stream",
          "name": "stdout",
          "text": [
            "Extracting data/FashionMNIST/raw/train-labels-idx1-ubyte.gz to data/FashionMNIST/raw\n",
            "\n",
            "Downloading http://fashion-mnist.s3-website.eu-central-1.amazonaws.com/t10k-images-idx3-ubyte.gz\n",
            "Downloading http://fashion-mnist.s3-website.eu-central-1.amazonaws.com/t10k-images-idx3-ubyte.gz to data/FashionMNIST/raw/t10k-images-idx3-ubyte.gz\n"
          ]
        },
        {
          "output_type": "stream",
          "name": "stderr",
          "text": [
            "100%|██████████| 4422102/4422102 [00:00<00:00, 5521138.26it/s]\n"
          ]
        },
        {
          "output_type": "stream",
          "name": "stdout",
          "text": [
            "Extracting data/FashionMNIST/raw/t10k-images-idx3-ubyte.gz to data/FashionMNIST/raw\n",
            "\n",
            "Downloading http://fashion-mnist.s3-website.eu-central-1.amazonaws.com/t10k-labels-idx1-ubyte.gz\n",
            "Downloading http://fashion-mnist.s3-website.eu-central-1.amazonaws.com/t10k-labels-idx1-ubyte.gz to data/FashionMNIST/raw/t10k-labels-idx1-ubyte.gz\n"
          ]
        },
        {
          "output_type": "stream",
          "name": "stderr",
          "text": [
            "100%|██████████| 5148/5148 [00:00<00:00, 4899540.96it/s]"
          ]
        },
        {
          "output_type": "stream",
          "name": "stdout",
          "text": [
            "Extracting data/FashionMNIST/raw/t10k-labels-idx1-ubyte.gz to data/FashionMNIST/raw\n",
            "\n"
          ]
        },
        {
          "output_type": "stream",
          "name": "stderr",
          "text": [
            "\n"
          ]
        }
      ]
    },
    {
      "cell_type": "code",
      "source": [
        "# Download the testing data from open dataset\n",
        "test_data = datasets.FashionMNIST(\n",
        "    root=\"data\",\n",
        "    train=False,\n",
        "    download=True,\n",
        "    transform = ToTensor(),\n",
        ")"
      ],
      "metadata": {
        "id": "JWbzG4srR-7c"
      },
      "execution_count": 43,
      "outputs": []
    },
    {
      "cell_type": "code",
      "source": [
        "type(training_data)"
      ],
      "metadata": {
        "colab": {
          "base_uri": "https://localhost:8080/"
        },
        "id": "sdUOBPkFSIar",
        "outputId": "1c00c62b-10e8-4fc6-a2b6-cd9bf909da8d"
      },
      "execution_count": 44,
      "outputs": [
        {
          "output_type": "execute_result",
          "data": {
            "text/plain": [
              "torchvision.datasets.mnist.FashionMNIST"
            ]
          },
          "metadata": {},
          "execution_count": 44
        }
      ]
    },
    {
      "cell_type": "code",
      "source": [
        "import matplotlib.pyplot as plt\n",
        "\n",
        "plt.figure(figsize=(12,10))\n",
        "for i in range(12):\n",
        "  plt.subplot(4,3,i+1)\n",
        "  sample_image, sample_label = training_data[i]\n",
        "  plt.imshow(sample_image[0])\n",
        "  plt.title(sample_label)"
      ],
      "metadata": {
        "colab": {
          "base_uri": "https://localhost:8080/",
          "height": 853
        },
        "id": "vNwI0i6cSRG5",
        "outputId": "f9707700-2886-481b-9a77-c19d0455a09d"
      },
      "execution_count": 48,
      "outputs": [
        {
          "output_type": "display_data",
          "data": {
            "text/plain": [
              "<Figure size 1200x1000 with 12 Axes>"
            ],
            "image/png": "[encoded data removed]"
          },
          "metadata": {}
        }
      ]
    },
    {
      "cell_type": "markdown",
      "source": [
        "Dataloader wraps an iterable over our dataset, and supports automatic batching, sampling, shuffling and multiprocess data loading. Here we define a batch size of 64, i.e. each element in the dataloader iterable will return a batch of 64 features and labels."
      ],
      "metadata": {
        "id": "K8guwoBgTFCz"
      }
    },
    {
      "cell_type": "code",
      "source": [
        "batch_size = 64\n",
        "\n",
        "training = DataLoader(training_data, batch_size = batch_size)\n",
        "testing = DataLoader(test_data, batch_size = batch_size)\n",
        "\n",
        "\n",
        "for X, y in testing:\n",
        "  print(f\"Shape of X: {X.shape}\")\n",
        "  print(f\"Shape of y: {y.shape}\")\n",
        "  break"
      ],
      "metadata": {
        "colab": {
          "base_uri": "https://localhost:8080/"
        },
        "id": "aQ4Cyjs4S1t6",
        "outputId": "81ddc655-ca4c-477d-c052-0911e6333296"
      },
      "execution_count": 50,
      "outputs": [
        {
          "output_type": "stream",
          "name": "stdout",
          "text": [
            "Shape of X: torch.Size([64, 1, 28, 28])\n",
            "Shape of y: torch.Size([64])\n"
          ]
        }
      ]
    },
    {
      "cell_type": "code",
      "source": [
        "for X, y in training:\n",
        "  print(torch.max(X))\n",
        "  print(torch.min(X))\n",
        "  break"
      ],
      "metadata": {
        "colab": {
          "base_uri": "https://localhost:8080/"
        },
        "id": "qdRIyx8GTGQH",
        "outputId": "06ea6a27-d613-41eb-a9bc-3f7a139d8e3e"
      },
      "execution_count": 51,
      "outputs": [
        {
          "output_type": "stream",
          "name": "stdout",
          "text": [
            "tensor(1.)\n",
            "tensor(0.)\n"
          ]
        }
      ]
    },
    {
      "cell_type": "markdown",
      "source": [
        "We need not to scale as DataLoader will take care of it"
      ],
      "metadata": {
        "id": "Lch-DXNFU6IQ"
      }
    },
    {
      "cell_type": "markdown",
      "source": [
        "## Model Building\n",
        "\n",
        "Define a neural network class by subclassing nn.Module, and initialize the neural network layers in __ init __. Every nn.Module subclass implements the operations on input data in the forward method."
      ],
      "metadata": {
        "id": "g6StxUvtVBB3"
      }
    },
    {
      "cell_type": "code",
      "source": [
        "class NeuralNetwork(nn.Module):\n",
        "  def __init__(self):\n",
        "    super(NeuralNetwork, self).__init__()\n",
        "    self.flatten = nn.Flatten()\n",
        "    self.build_model = nn.Sequential(\n",
        "        nn.Linear(28*28, 512),  #28*28 is the input shape\n",
        "        nn.ReLU(),\n",
        "        nn.Linear(512, 512), #hidden layer\n",
        "        nn.ReLU(),\n",
        "        nn.Linear(512, 10)  #output Layer\n",
        "\n",
        "        # We have 10 types of clothes in FashionMNIST dataset.\n",
        "    )\n",
        "\n",
        "  def forward(self, x):\n",
        "    x = self.flatten(x)\n",
        "    dnn = self.build_model(x)\n",
        "    return dnn"
      ],
      "metadata": {
        "id": "wjvVAc4jU31_"
      },
      "execution_count": 53,
      "outputs": []
    },
    {
      "cell_type": "code",
      "source": [
        "model = NeuralNetwork()"
      ],
      "metadata": {
        "id": "z9eGRyp1U6qV"
      },
      "execution_count": 54,
      "outputs": []
    },
    {
      "cell_type": "code",
      "source": [
        "# Compile model- Loss Function and Optimizer\n",
        "loss_fn = nn.CrossEntropyLoss()\n",
        "optimizer = torch.optim.Adam(model.parameters(), lr=1e-5)"
      ],
      "metadata": {
        "id": "9CQWAXvKWarx"
      },
      "execution_count": 55,
      "outputs": []
    },
    {
      "cell_type": "code",
      "source": [
        "def train(dataloader, model, loss_fn, optimizer):\n",
        "  size = len(dataloader.dataset)\n",
        "  model.train()\n",
        "\n",
        "  # Compute Prediction error\n",
        "  for batch, (X,y) in enumerate(dataloader):\n",
        "    pred = model(X)\n",
        "    loss = loss_fn(pred, y)\n",
        "\n",
        "    # Backpropagation\n",
        "    optimizer.zero_grad()\n",
        "    \"\"\"\n",
        "    This line clears (zeros out) the gradients of the model's parameters. Gradients are accumulated during the forward and backward passes and need to be cleared before\n",
        "    the next backward pass.\n",
        "    \"\"\"\n",
        "    loss.backward()\n",
        "    \"\"\"\n",
        "    This computes the gradients of the loss with respect to the model's parameters. This is a crucial step for gradient-based optimization algorithms like\n",
        "    stochastic gradient descent (SGD).\n",
        "    \"\"\"\n",
        "    optimizer.step()\n",
        "\n",
        "    if batch%100 == 0:    # if batch_no. is a multiple of 100\n",
        "      loss, current = loss.item(), batch * len(X)\n",
        "      print(f\"loss: {loss:>7f} [{current:>5d}/{size:>5d}]\")"
      ],
      "metadata": {
        "id": "dHbGcJzDWslX"
      },
      "execution_count": 61,
      "outputs": []
    },
    {
      "cell_type": "code",
      "source": [
        "def test(dataloader, model, loss_fn):\n",
        "  size = len(dataloader.dataset)\n",
        "  num_batches = len(dataloader)\n",
        "\n",
        "  model.eval()\n",
        "  test_loss, correct = 0,0\n",
        "  with torch.no_grad():\n",
        "    for X,y in dataloader:\n",
        "      pred = model(X)\n",
        "      test_loss += loss_fn(pred, y).item()    # .item() method is used to extract a single scalar value from a tensor.\n",
        "      correct += (pred.argmax(1) == y).type(torch.float).sum().item()\n",
        "\n",
        "    test_loss /= num_batches\n",
        "    correct /= size\n",
        "\n",
        "    print(f\"Test Error: \\n Accuracy: {(100*correct):>0.1f}%, Avg loss: {test_loss:>8f} \\n\")"
      ],
      "metadata": {
        "id": "btkQxu_JYOZZ"
      },
      "execution_count": 59,
      "outputs": []
    },
    {
      "cell_type": "code",
      "source": [
        "for epoch in range(5):\n",
        "  print(f\"Epochs {epoch+1}\")\n",
        "  train(training, model, loss_fn, optimizer)\n",
        "  test(testing, model, loss_fn)"
      ],
      "metadata": {
        "colab": {
          "base_uri": "https://localhost:8080/"
        },
        "id": "9VGigpgyag2r",
        "outputId": "5f424f8c-dd85-4317-d97d-4b4767c092b6"
      },
      "execution_count": 62,
      "outputs": [
        {
          "output_type": "stream",
          "name": "stdout",
          "text": [
            "Epochs 1\n",
            "loss: 2.302042 [    0/60000]\n",
            "loss: 2.195549 [ 6400/60000]\n",
            "loss: 1.940825 [12800/60000]\n",
            "loss: 1.770212 [19200/60000]\n",
            "loss: 1.380052 [25600/60000]\n",
            "loss: 1.254082 [32000/60000]\n",
            "loss: 1.160040 [38400/60000]\n",
            "loss: 1.029555 [44800/60000]\n",
            "loss: 0.996884 [51200/60000]\n",
            "loss: 0.911247 [57600/60000]\n",
            "Test Error: \n",
            " Accuracy: 67.9%, Avg loss: 0.905793 \n",
            "\n",
            "Epochs 2\n",
            "loss: 0.927405 [    0/60000]\n",
            "loss: 0.961559 [ 6400/60000]\n",
            "loss: 0.716773 [12800/60000]\n",
            "loss: 0.913766 [19200/60000]\n",
            "loss: 0.736897 [25600/60000]\n",
            "loss: 0.740932 [32000/60000]\n",
            "loss: 0.780886 [38400/60000]\n",
            "loss: 0.746360 [44800/60000]\n",
            "loss: 0.736385 [51200/60000]\n",
            "loss: 0.719732 [57600/60000]\n",
            "Test Error: \n",
            " Accuracy: 75.5%, Avg loss: 0.699999 \n",
            "\n",
            "Epochs 3\n",
            "loss: 0.664280 [    0/60000]\n",
            "loss: 0.757819 [ 6400/60000]\n",
            "loss: 0.528758 [12800/60000]\n",
            "loss: 0.770497 [19200/60000]\n",
            "loss: 0.629536 [25600/60000]\n",
            "loss: 0.629850 [32000/60000]\n",
            "loss: 0.653270 [38400/60000]\n",
            "loss: 0.682373 [44800/60000]\n",
            "loss: 0.657017 [51200/60000]\n",
            "loss: 0.632512 [57600/60000]\n",
            "Test Error: \n",
            " Accuracy: 78.2%, Avg loss: 0.619232 \n",
            "\n",
            "Epochs 4\n",
            "loss: 0.569002 [    0/60000]\n",
            "loss: 0.657337 [ 6400/60000]\n",
            "loss: 0.453354 [12800/60000]\n",
            "loss: 0.701263 [19200/60000]\n",
            "loss: 0.580472 [25600/60000]\n",
            "loss: 0.582259 [32000/60000]\n",
            "loss: 0.581637 [38400/60000]\n",
            "loss: 0.659247 [44800/60000]\n",
            "loss: 0.626959 [51200/60000]\n",
            "loss: 0.577172 [57600/60000]\n",
            "Test Error: \n",
            " Accuracy: 79.8%, Avg loss: 0.573714 \n",
            "\n",
            "Epochs 5\n",
            "loss: 0.514570 [    0/60000]\n",
            "loss: 0.597819 [ 6400/60000]\n",
            "loss: 0.410124 [12800/60000]\n",
            "loss: 0.654718 [19200/60000]\n",
            "loss: 0.548239 [25600/60000]\n",
            "loss: 0.551797 [32000/60000]\n",
            "loss: 0.535421 [38400/60000]\n",
            "loss: 0.649644 [44800/60000]\n",
            "loss: 0.613588 [51200/60000]\n",
            "loss: 0.537457 [57600/60000]\n",
            "Test Error: \n",
            " Accuracy: 80.8%, Avg loss: 0.544182 \n",
            "\n"
          ]
        }
      ]
    },
    {
      "cell_type": "code",
      "source": [],
      "metadata": {
        "id": "Yp7cL6t8atN6"
      },
      "execution_count": null,
      "outputs": []
    }
  ]
}