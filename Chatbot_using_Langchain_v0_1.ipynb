{
  "nbformat": 4,
  "nbformat_minor": 0,
  "metadata": {
    "colab": {
      "provenance": [],
      "authorship_tag": "ABX9TyOOl2dc7IC0KxotrpRgSJz/",
      "include_colab_link": true
    },
    "kernelspec": {
      "name": "python3",
      "display_name": "Python 3"
    },
    "language_info": {
      "name": "python"
    }
  },
  "cells": [
    {
      "cell_type": "markdown",
      "metadata": {
        "id": "view-in-github",
        "colab_type": "text"
      },
      "source": [
        "<a href=\"https://colab.research.google.com/github/Zenith1618/LLM/blob/main/Chatbot_using_Langchain_v0_1.ipynb\" target=\"_parent\"><img src=\"https://colab.research.google.com/assets/colab-badge.svg\" alt=\"Open In Colab\"/></a>"
      ]
    },
    {
      "cell_type": "markdown",
      "source": [
        "# Installation"
      ],
      "metadata": {
        "id": "e3akKdoKaM3E"
      }
    },
    {
      "cell_type": "code",
      "execution_count": null,
      "metadata": {
        "id": "DrZ08ngAaMRe"
      },
      "outputs": [],
      "source": [
        "!pip install langchain openai"
      ]
    },
    {
      "cell_type": "code",
      "source": [
        "!pip install tiktoken faiss-cpu"
      ],
      "metadata": {
        "id": "xJA8nMg_aNcx"
      },
      "execution_count": null,
      "outputs": []
    },
    {
      "cell_type": "markdown",
      "source": [
        "# Setup OpenAI API Key"
      ],
      "metadata": {
        "id": "6jiQ0vMVaSc8"
      }
    },
    {
      "cell_type": "code",
      "source": [
        "import os\n",
        "from getpass import getpass\n",
        "import openai"
      ],
      "metadata": {
        "id": "bbpsEW0OaUN-"
      },
      "execution_count": null,
      "outputs": []
    },
    {
      "cell_type": "code",
      "source": [
        "openai_key = getpass(\"Enter your OpenAI API key:\")\n",
        "os.environ['OPENAI_API_KEY'] = openai_key\n",
        "openai.api_key = os.environ['OPENAI_API_KEY']"
      ],
      "metadata": {
        "id": "ZgU5HlNXaXAK"
      },
      "execution_count": null,
      "outputs": []
    },
    {
      "cell_type": "markdown",
      "source": [
        "# Import required Attribute from above workflow"
      ],
      "metadata": {
        "id": "Xi82-M-2abKR"
      }
    },
    {
      "cell_type": "code",
      "source": [
        "from langchain.document_loaders.csv_loader import CSVLoader #source+load\n",
        "from langchain.embeddings.openai import OpenAIEmbeddings #transform+embed\n",
        "from langchain.vectorstores import FAISS #vector database/stor\n",
        "from langchain.chains import ConversationalRetrievalChain #retrival\n",
        "from langchain.chat_models import ChatOpenAI #chatGpt model\n",
        "from langchain.memory import ConversationBufferMemory #memory"
      ],
      "metadata": {
        "id": "30sLaxAYaqeo"
      },
      "execution_count": null,
      "outputs": []
    },
    {
      "cell_type": "markdown",
      "source": [
        "# Load the dataset\n",
        "\n",
        "Dataset: https://www.kaggle.com/datasets/thedevastator/healthy-diet-recipes-a-comprehensive-dataset/code"
      ],
      "metadata": {
        "id": "u-vfpIgmayp8"
      }
    },
    {
      "cell_type": "code",
      "source": [
        "# Load CSV file using Langchain CSVLoader\n",
        "loader = CSVLoader(file_path=\"All_Diets.csv\")\n",
        "data = loader.load()"
      ],
      "metadata": {
        "id": "gUC-AD_Aazlv"
      },
      "execution_count": null,
      "outputs": []
    },
    {
      "cell_type": "markdown",
      "source": [
        "# Create Embeddings"
      ],
      "metadata": {
        "id": "IIBeUgkXa1or"
      }
    },
    {
      "cell_type": "code",
      "source": [
        "# Data to Embeddings (Vector/Matrix)\n",
        "embeddings = OpenAIEmbeddings()"
      ],
      "metadata": {
        "id": "JF_XK9yma3IT"
      },
      "execution_count": null,
      "outputs": []
    },
    {
      "cell_type": "markdown",
      "source": [
        "# Store in Vector Database"
      ],
      "metadata": {
        "id": "AYA8DyBia5Ot"
      }
    },
    {
      "cell_type": "code",
      "source": [
        "# Store this Vector/Matrix in a Vector Database\n",
        "#Vector database is used for semantic search\n",
        "vectorstore = FAISS.from_documents(data, embeddings)"
      ],
      "metadata": {
        "id": "8ojZy6g4a7Tn"
      },
      "execution_count": null,
      "outputs": []
    },
    {
      "cell_type": "markdown",
      "source": [
        "# Model"
      ],
      "metadata": {
        "id": "xD8U-w6ra_ax"
      }
    },
    {
      "cell_type": "code",
      "source": [
        "chat = ChatOpenAI(temperature=0.0,model_name='gpt-3.5-turbo')"
      ],
      "metadata": {
        "id": "Kk4nBt-GbAKJ"
      },
      "execution_count": null,
      "outputs": []
    },
    {
      "cell_type": "markdown",
      "source": [
        "# Memory"
      ],
      "metadata": {
        "id": "cHP1gzAhbCXK"
      }
    },
    {
      "cell_type": "code",
      "source": [
        "memory = ConversationBufferMemory(memory_key=\"chat_history\", return_messages=True)"
      ],
      "metadata": {
        "id": "YEBnhxAwbDgF"
      },
      "execution_count": null,
      "outputs": []
    },
    {
      "cell_type": "markdown",
      "source": [
        "# Retrieval Chain\n",
        "Use Vector Database to extract the semantic search to get the similiar relevant result to the given query/prompt"
      ],
      "metadata": {
        "id": "KC8h57ywbGUG"
      }
    },
    {
      "cell_type": "code",
      "source": [
        "chain = ConversationalRetrievalChain.from_llm(\n",
        "llm = chat,\n",
        "retriever=vectorstore.as_retriever(),\n",
        "memory = memory # for memory => memory_key is required i.e., chat_history\n",
        ")"
      ],
      "metadata": {
        "id": "9m4NOc84bH_q"
      },
      "execution_count": null,
      "outputs": []
    },
    {
      "cell_type": "markdown",
      "source": [
        "# Predictions"
      ],
      "metadata": {
        "id": "oXVnq7WgbNRC"
      }
    },
    {
      "cell_type": "code",
      "source": [
        "prompt1 = \"Give me a recommendation for best Keto diet based on American cuisine type\""
      ],
      "metadata": {
        "id": "bqFl3wFObQch"
      },
      "execution_count": null,
      "outputs": []
    },
    {
      "cell_type": "code",
      "source": [
        "res1 = chain({\"question\":prompt1})"
      ],
      "metadata": {
        "id": "PwESuMnYbSUM"
      },
      "execution_count": null,
      "outputs": []
    },
    {
      "cell_type": "code",
      "source": [
        "print(res1['answer'])"
      ],
      "metadata": {
        "id": "ygqoydOWbSXK"
      },
      "execution_count": null,
      "outputs": []
    },
    {
      "cell_type": "code",
      "source": [
        "prompt2 = \"What are the all type of Diets available?\""
      ],
      "metadata": {
        "id": "E1QCG7q0bZte"
      },
      "execution_count": null,
      "outputs": []
    },
    {
      "cell_type": "code",
      "source": [
        "res2 = chain({\"question\":prompt2})"
      ],
      "metadata": {
        "id": "uA5oped0bZwS"
      },
      "execution_count": null,
      "outputs": []
    },
    {
      "cell_type": "code",
      "source": [
        "print(res2['answer'])"
      ],
      "metadata": {
        "id": "DjvANv_cbZy5"
      },
      "execution_count": null,
      "outputs": []
    }
  ]
}